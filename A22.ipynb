{
 "cells": [
  {
   "cell_type": "markdown",
   "id": "ea82c66a",
   "metadata": {},
   "source": [
    "# Assignment 2 <font size=3> Classification of Networks\n",
    "#### Do not add any additional cells in this assignment. If you write additional functions or print statements for testing, please remove them before submitting the assignment. Any additional functions must be defined inside the existing code cell, either as nested functions or inline with the current code. All code and comments should be written in between the lines ####IMPLEMENTATION STARTS HERE#### and ####IMPLEMENTATION ENDS HERE####. Please do not remove cell tags (e.g. 'export' and 'test')."
   ]
  },
  {
   "cell_type": "markdown",
   "id": "d8e90d35",
   "metadata": {},
   "source": [
    "# Setup\n",
    "\n",
    "Activate the conda environment you created in Assignment A1.\n",
    "If you used the same environment name as shown in A1, run:\n",
    "``` bash\n",
    "conda activate cs7280_env\n",
    "```\n",
    "\n",
    "If you chose a different name for your environment, replace <your_environment_name> with your actual environment name, like this:\n",
    "``` bash\n",
    "conda activate < your_environment_name >\n",
    "```"
   ]
  },
  {
   "cell_type": "markdown",
   "id": "8ebb32a6-a7a8-4cca-add3-ea070aa367a1",
   "metadata": {},
   "source": [
    "# Imports"
   ]
  },
  {
   "cell_type": "code",
   "execution_count": null,
   "id": "f4354199",
   "metadata": {
    "tags": [
     "export"
    ]
   },
   "outputs": [],
   "source": [
    "import copy\n",
    "import math\n",
    "import networkx as nx\n",
    "import numpy as np\n",
    "import random\n",
    "import scipy as sp"
   ]
  },
  {
   "cell_type": "markdown",
   "id": "6011e415-c431-425d-930c-53191ef4f46d",
   "metadata": {},
   "source": [
    "# Part 0 <font size=3> [0 pts] Starter empirical network"
   ]
  },
  {
   "cell_type": "markdown",
   "id": "e527413a-959a-479e-b2de-35b0ac39829e",
   "metadata": {},
   "source": [
    "We will use a starter undirected empirical network to check the various functional tools we will build for exploring networks. The sample network is as follows:\n",
    " 1. [Tortoise social network](https://networkrepository.com/reptilia-tortoise-network-lm-1998.php) (undirected)"
   ]
  },
  {
   "cell_type": "markdown",
   "id": "89ed02f1-5197-4081-8c4e-22adac2ff977",
   "metadata": {},
   "source": [
    "In the function below, load the tortoise social network data into a NetworkX graph. The data is stored at relative path`\"data/tortoise_lm_1998.txt\"` as an edgelist file. Use NetworkX's [`read_edgelist`](https://networkx.org/documentation/stable/reference/readwrite/generated/networkx.readwrite.edgelist.read_edgelist.html#networkx.readwrite.edgelist.read_edgelist) function. Create using `nx.Graph`."
   ]
  },
  {
   "cell_type": "code",
   "execution_count": null,
   "id": "3653a3bf-7c86-4fe1-917e-820996d52336",
   "metadata": {
    "tags": [
     "export"
    ]
   },
   "outputs": [],
   "source": [
    "def tortoise_social_network() -> nx.Graph():\n",
    "    \"\"\"\n",
    "    Return\n",
    "        G          networkx Graph               tortoise social network\n",
    "    \"\"\"\n",
    "\n",
    "    ####IMPLEMENTATION STARTS HERE####\n",
    "    \n",
    "    # This is a placeholder\n",
    "    G = nx.Graph()\n",
    "\n",
    "    return G\n",
    "\n",
    "    ####IMPLEMENTATION ENDS HERE####"
   ]
  },
  {
   "cell_type": "markdown",
   "id": "06ec6a15-dd42-4f1d-9d37-d76adbe111d2",
   "metadata": {},
   "source": [
    "**Sanity Check**\n",
    "\n",
    "You can print the return graph of the function below and what should be shown is text of the form:\n",
    "\n",
    "> Graph with 40 nodes and 91 edges"
   ]
  },
  {
   "cell_type": "code",
   "execution_count": null,
   "id": "a425331f-32a4-4518-883a-80ce398efb10",
   "metadata": {
    "tags": [
     "test"
    ]
   },
   "outputs": [],
   "source": [
    "print(tortoise_social_network())"
   ]
  },
  {
   "cell_type": "markdown",
   "id": "10a4392d-df15-4e16-836f-a22fc9db41f5",
   "metadata": {},
   "source": [
    "# Part 1 <font size=3> [20 pts] Degree Analysis Warmup (Friendship Paradox)"
   ]
  },
  {
   "cell_type": "markdown",
   "id": "4f68ece0-09cb-48ae-a841-6d0ee3ebb762",
   "metadata": {},
   "source": [
    "For this part, we will build functions that allow us to analyze the degrees of nodes in relation to the degrees of their neighbors."
   ]
  },
  {
   "cell_type": "markdown",
   "id": "c161cfda-4a5b-47bd-a758-10c3a5613ff2",
   "metadata": {},
   "source": [
    "## 1.1 <font size=3> [6 pts] Node degree, neighbor degree average, neighbor degree max"
   ]
  },
  {
   "cell_type": "markdown",
   "id": "3bed165e-f8cb-446a-8adf-18eb1a0e4564",
   "metadata": {},
   "source": [
    "In the function below, compute and return a dictionary based on undirected parameter graph `G` as follows:\n",
    "1. The keys of the dictionary are the nodes of `G`,\n",
    "2. For each node key, the value is a 3-tuple `(deg, avg_nbr_deg, max_nbr_deg)`, where `deg` is the degree of the node, `avg_nbr_deg` is the average degree of all the node's neighbors, and `max_nbr_deg` is the maximum degree among all the node's neighbors."
   ]
  },
  {
   "cell_type": "code",
   "execution_count": null,
   "id": "4bd45d83-29db-41ab-949d-eb7e6c389875",
   "metadata": {
    "tags": [
     "export"
    ]
   },
   "outputs": [],
   "source": [
    "def get_degree_neighbor_degree_dict(G:nx.Graph) -> dict:\n",
    "    \"\"\"\n",
    "    Params\n",
    "        G          networkx Graph               undirected network\n",
    "    \"\"\"\n",
    "    \n",
    "    ####IMPLEMENTATION STARTS HERE####\n",
    "\n",
    "    # This is a placeholder\n",
    "    deg_nbr_deg_dict = {}\n",
    "\n",
    "    ####IMPLEMENTATION ENDS HERE####\n",
    "    return deg_nbr_deg_dict"
   ]
  },
  {
   "cell_type": "markdown",
   "id": "5dac2ff3-6798-419e-b2da-2fb6341ef9a6",
   "metadata": {},
   "source": [
    "**Sanity Check**\n",
    "\n",
    "Running the cell below should yield the following output:\n",
    "\n",
    "> `(6, 8.5, 10)`"
   ]
  },
  {
   "cell_type": "code",
   "execution_count": null,
   "id": "524018dd-f1c2-4f14-9932-907d137e5cca",
   "metadata": {
    "tags": [
     "test"
    ]
   },
   "outputs": [],
   "source": [
    "print(get_degree_neighbor_degree_dict(tortoise_social_network())[str(18)])"
   ]
  },
  {
   "cell_type": "markdown",
   "id": "c3c73469-9bdf-425e-baf6-966c0e2350c2",
   "metadata": {},
   "source": [
    "## 1.2 <font size=3> [6 pts] Node vs neighbor degree competition (frequency)"
   ]
  },
  {
   "cell_type": "markdown",
   "id": "818799ed-0470-4555-9aa5-2941c528a2d5",
   "metadata": {},
   "source": [
    "In the function below, \n",
    "1. Compute the ratio of nodes (out of all nodes) in undirected parameter graph `G` that average degree of a neighbor is strictly larger than the degree of the node itself (storing this ratio in the variable `avg_nbr_deg_larger`), and\n",
    "2. Compute the ratio of nodes (out of all nodes) in `G` that the maximum degree of a neighbor is strictly larger than the degree of the node itself (storing this ratio in the variable `max_nbr_deg_larger`)"
   ]
  },
  {
   "cell_type": "code",
   "execution_count": null,
   "id": "87636041-fbe4-4c9f-8095-03adca0ccf21",
   "metadata": {
    "tags": [
     "export"
    ]
   },
   "outputs": [],
   "source": [
    "def node_to_neighbor_deg_comparison(G:nx.Graph) -> (float, float):\n",
    "    \"\"\"\n",
    "    Params\n",
    "        G                        networkx Graph    undirected network\n",
    "        \n",
    "    Return\n",
    "        avg_nbr_deg_larger       float             ratio of nodes for which the average neighbor degree is (strictly) larger than the node degree\n",
    "        max_nbr_deg_larger       float             ratio of nodes for which the maximum neighbor degree is (strictly) larger than the node degree\n",
    "    \"\"\"\n",
    "\n",
    "    ####IMPLEMENTATION STARTS HERE####\n",
    "\n",
    "    # These lines are placeholders\n",
    "    avg_nbr_deg_larger = -1.0\n",
    "    max_nbr_deg_larger = -1.0\n",
    "    \n",
    "    ####IMPLEMENTATION ENDS HERE####\n",
    "    return avg_nbr_deg_larger, max_nbr_deg_larger"
   ]
  },
  {
   "cell_type": "markdown",
   "id": "44b7acc0-f91c-40fd-9fe5-1826c9998612",
   "metadata": {},
   "source": [
    "## 1.3 <font size=3> [4 pts] Node vs neighbor degree competition (average)"
   ]
  },
  {
   "cell_type": "markdown",
   "id": "d773dd08-0333-43eb-817d-dd3ecd6701d1",
   "metadata": {},
   "source": [
    "In the body of the function below, for the undirected parameter graph `G`:\n",
    "1. Compute the average degree among all the nodes of `G`, and\n",
    "2. Compute the average degree among all the neighbors of nodes of `G`. Note that any given node is likely to be counted as a neighbor multiple times because it is likely the neighbor of multiple other nodes (and, in fact, this multiple counting is why the Friendship Paradox exists)."
   ]
  },
  {
   "cell_type": "code",
   "execution_count": null,
   "id": "41a7c2b1-a5e3-4983-a5be-ba1fe1520008",
   "metadata": {
    "tags": [
     "export"
    ]
   },
   "outputs": [],
   "source": [
    "def avg_deg_and_avg_nbr_deg(G:nx.Graph) -> (float, float):\n",
    "    \"\"\"\n",
    "    Params\n",
    "        G                        networkx Graph          undirected network\n",
    "\n",
    "    Return\n",
    "        avg_deg                  float                   average degree among all nodes of the parameter network G\n",
    "        avg_nbr_deg              float                   average degree among all neighbors of the parameter network G\n",
    "    \"\"\"\n",
    "\n",
    "    ####IMPLEMENTATION STARTS HERE####\n",
    "\n",
    "    # This is a placeholder\n",
    "    avg_deg = -1.0\n",
    "    avg_nbr_deg = -1.0\n",
    "    \n",
    "    ####IMPLEMENTATION ENDS HERE####\n",
    "    return avg_deg, avg_nbr_deg"
   ]
  },
  {
   "cell_type": "markdown",
   "id": "4b3f1652-fba5-4ddd-a8d3-11ca9f208ba5",
   "metadata": {},
   "source": [
    "**Sanity Check**\n",
    "\n",
    "Running the cell below should yield the following output:\n",
    "\n",
    "> `(4.55, 7.0989010989010985)`"
   ]
  },
  {
   "cell_type": "code",
   "execution_count": null,
   "id": "f6e1a7d5-36bd-48da-9bed-c5ec183bae64",
   "metadata": {
    "tags": [
     "test"
    ]
   },
   "outputs": [],
   "source": [
    "print(avg_deg_and_avg_nbr_deg(tortoise_social_network()))"
   ]
  },
  {
   "cell_type": "markdown",
   "id": "23b4c988-f722-4aa3-b437-0a98c3f157a5",
   "metadata": {},
   "source": [
    "## 1.4 <font size=3> [4 pts] Does a network display the friendship paradox?"
   ]
  },
  {
   "cell_type": "markdown",
   "id": "f570023c-1720-4c3b-9056-af76732a93af",
   "metadata": {},
   "source": [
    "In the body of the function below, return a boolean of `True` if the parameter network `G` displays the friendship paradox (the average degree of the graph's nodes is less than the average degree of the neighbors of nodes) and `False` otherwise."
   ]
  },
  {
   "cell_type": "code",
   "execution_count": null,
   "id": "1c54cf23-8bde-447b-8c56-0dde9cce14fd",
   "metadata": {
    "tags": [
     "export"
    ]
   },
   "outputs": [],
   "source": [
    "def network_displays_friendship_paradox(G:nx.Graph) -> bool:\n",
    "    \"\"\"\n",
    "    Params\n",
    "        G                        networkx Graph          undirected network\n",
    "\n",
    "    Return\n",
    "        disp_friend_pdx          boolean                 True if the parameter network G displays the friendship paradox. False otherwise\n",
    "    \"\"\"\n",
    "\n",
    "    ####IMPLEMENTATION STARTS HERE####\n",
    "\n",
    "    # This is a placeholder\n",
    "    disp_friend_pdx = None\n",
    "\n",
    "    ####IMPLEMENTATION ENDS HERE####\n",
    "    return disp_friend_pdx"
   ]
  },
  {
   "cell_type": "markdown",
   "id": "20f3b1ca-3736-4b2d-92c7-6794ee3a7528",
   "metadata": {},
   "source": [
    "# Part 2 <font size=3> [20 pts] Degree Analysis (Power Law Degree Distribution)"
   ]
  },
  {
   "cell_type": "markdown",
   "id": "8552ba21-2649-464e-9754-70c8cfe4f53c",
   "metadata": {},
   "source": [
    "A network with a degree distribution that follows a power law $p(k) = ck^{-\\alpha}$ for $c, \\alpha > 0$ is often called a *scale-free network* since it will have the property that no matter how many nodes/edges the network has, the degree distribution will look similarly (ie, most nodes will have a degree that is much small than the average degree, while very few yet definitely some nodes will have degree that is significantly higher than the average degree)."
   ]
  },
  {
   "cell_type": "markdown",
   "id": "6286b9e7-7101-4ab3-a1ce-cf30c7424887",
   "metadata": {},
   "source": [
    "There is ongoing discussion in the literature regarding the frequency and domain-preference of scale-free network appearance. Some articles to read if you are interested:\n",
    "* [Broido and Clauset (2018) - Scale-free networks are rare](https://www.semanticscholar.org/paper/Scale-free-networks-are-rare-Broido-Clauset/f1b4361a1978e93018c5fdfe4856250152676ffb)\n",
    "* [Holme (2019) - Rare and everywhere: Perspectives on scale-free networks](https://www.semanticscholar.org/paper/Rare-and-everywhere%3A-Perspectives-on-scale-free-Holme/fd4c991943aa8c1119415f97a4829aff542643b3)\n",
    "* [Artico et al (2020) - How rare are power-law networks really?](https://www.semanticscholar.org/paper/How-rare-are-power-law-networks-really-Artico-Smolyarenko/a760374e5cda0da4467f5fb71eca7a5bcee12aae)\n",
    "* [Smith et al (2020) - Scarcity of scale-free topology is universal across biochemmical networks](https://www.semanticscholar.org/paper/Scarcity-of-scale-free-topology-is-universal-across-Smith-Kim/1aad378f7078ee57b3016e24b4d4a8025e5ccdb4)\n",
    "* [Liu et al (2021) - Scale free is not rare in international trade networks](https://www.semanticscholar.org/paper/Scale-free-is-not-rare-in-international-trade-Liu-Shen/c6c8b9ded3e3cac23acec6094769eff866a6503f)"
   ]
  },
  {
   "cell_type": "markdown",
   "id": "2ce01293-b67a-4bbe-86bf-308e1379f417",
   "metadata": {},
   "source": [
    "## 2.1 <font size=3> [2 pts] Degree distribution (natural, unmodified)"
   ]
  },
  {
   "cell_type": "markdown",
   "id": "335c9172-0911-40c5-a692-4c171054e72d",
   "metadata": {},
   "source": [
    "In the function below, for the parameter graph `G`:\n",
    "1. Compute all the unique degrees of the nodes in the parameter graph `G` and store that information in the list `degs`. For example, if two nodes of `G` have degree 3, the value of 3 would only be recorded once in the list. Make sure this list is sorted in ascending order (degree 1 should occur before degree 2, for instance).\n",
    "2. For each unique degree in `degs`, find the corresponding count of how many nodes have that specific degree. Store that information in the variable `counts`."
   ]
  },
  {
   "cell_type": "code",
   "execution_count": null,
   "id": "8a7681e2-f858-47ba-bb65-982da4df4e01",
   "metadata": {
    "tags": [
     "export"
    ]
   },
   "outputs": [],
   "source": [
    "def degree_distribution(G:nx.Graph) -> (list, list):\n",
    "    \"\"\"\n",
    "    Params\n",
    "        G              networkx Graph       undirected network\n",
    "\n",
    "    Return\n",
    "        degs           list                 a list of integers holding all the (unique) degrees held by at least one node of G\n",
    "        counts         list                 a list of integers holding all the corresponding counts of the degree values in degs\n",
    "    \"\"\"\n",
    "\n",
    "    ####IMPLEMENTATION STARTS HERE####\n",
    "    \n",
    "    # This is a placeholder\n",
    "    degs, counts = [], []\n",
    "\n",
    "    ####IMPLEMENTATION ENDS HERE####\n",
    "    return degs, counts"
   ]
  },
  {
   "cell_type": "markdown",
   "id": "a936600a-0de0-4eb0-a230-af37b2725962",
   "metadata": {},
   "source": [
    "**Sanity Check**\n",
    "\n",
    "Running the cell below should yield the following output:\n",
    "\n",
    "> `([1, 2, 3, 4, 5, 6, 7, 8, 9, 10, 11, 13], [7, 9, 7, 2, 1, 2, 2, 1, 5, 2, 1, 1])`"
   ]
  },
  {
   "cell_type": "code",
   "execution_count": null,
   "id": "0ee6a821-a54e-4f75-9e89-116595ffd5a2",
   "metadata": {
    "tags": [
     "test"
    ]
   },
   "outputs": [],
   "source": [
    "print(degree_distribution(tortoise_social_network()))"
   ]
  },
  {
   "cell_type": "markdown",
   "id": "c967bcc4-fc4b-45b9-87db-77337fc4d6c1",
   "metadata": {},
   "source": [
    "## 2.2 <font size=3> [10 pts] Degree distribution (logarithmically scaled and binned)"
   ]
  },
  {
   "cell_type": "markdown",
   "id": "2b58a075-cc33-4edf-9e2a-58e4a771cc97",
   "metadata": {},
   "source": [
    "In the body of the function below, take the degrees and counts from the previous subpart and do the following:\n",
    "1. Exchange each degree $x$ and count value $y$ with $log(x)$ and $log(y)$ using NumPy's [`log`](https://numpy.org/doc/stable/reference/generated/numpy.log.html) function,\n",
    "2. Using the `bin_width` value, create bins of that width. For each bin interval $B$, average the log-scaled degree values $\\log(x)$ for values that fall within that bin to generate the value $x_B$ for that bin. For each log-scaled degree value $\\log(x)$, average the corresponding log-scaled count values $\\log(y)$ to the get the corresponding value $y_B$ for that bin. Store the values $x_B$ and $y_B$ at the same index level in the `degs_log` and `counts_log` lists.\n",
    "\n",
    "**Note:** Ensure that binning starts from 1. After binning, make sure to remove any bins that have no data points (i.e. empty bins), even if the output appears correct without this step. Removing empty bins is essential for the correctness of the final result."
   ]
  },
  {
   "cell_type": "code",
   "execution_count": null,
   "id": "e58da95a-b024-4513-9583-187ace748a08",
   "metadata": {
    "tags": [
     "export"
    ]
   },
   "outputs": [],
   "source": [
    "def deg_dist_binned_and_log_scale(G:nx.Graph, bin_width:float=0.25) -> (list, list):\n",
    "    \"\"\"\n",
    "    Params\n",
    "        G              networkx Graph       undirected network\n",
    "        bin_width      float                the horizontal width of the bins\n",
    "\n",
    "    Return\n",
    "        degs_log       list                 a list of values corresponding to the degs variable from the last sub part, but \n",
    "                                                scaled with natural log\n",
    "                                                binned into bins of width bin_width\n",
    "        counts_log     list                 a list of values corresponding to the counts variable from the last sub part, but\n",
    "                                                scaled with natural log\n",
    "                                                binned into bins of width bin_width\n",
    "    \"\"\"\n",
    "\n",
    "    ####IMPLEMENTATION STARTS HERE####\n",
    "    \n",
    "    # This is a placeholder\n",
    "    degs_log, counts_log = [], []\n",
    "    \n",
    "    ####IMPLEMENTATION ENDS HERE####\n",
    "    return degs_log, counts_log"
   ]
  },
  {
   "cell_type": "markdown",
   "id": "59b4c082-6b8b-4485-9959-18862894b3fa",
   "metadata": {},
   "source": [
    "**Sanity Check**\n",
    "\n",
    "Running the cell below should yield the following output:\n",
    "\n",
    "> `([1.729811471360218, 2.4218099077513178], [0.8049699433098928, 0.23104906018664842])`"
   ]
  },
  {
   "cell_type": "code",
   "execution_count": null,
   "id": "79168d91-383b-4655-b46f-b66f5909101e",
   "metadata": {
    "tags": [
     "test"
    ]
   },
   "outputs": [],
   "source": [
    "print(deg_dist_binned_and_log_scale(tortoise_social_network(), 1.2))"
   ]
  },
  {
   "cell_type": "markdown",
   "id": "fa24744e-7a98-4d0e-8c62-a507444b173a",
   "metadata": {},
   "source": [
    "## 2.3 <font size=3> [8 pts] Determine if a network is scale free or not"
   ]
  },
  {
   "cell_type": "markdown",
   "id": "b349ff3b-6a5c-4ed6-8451-f28e1b122dc3",
   "metadata": {},
   "source": [
    "In the function below:\n",
    "1. perform a statistical hypothesis test for linear correlation using SciPy's [`sp.stats.pearson`](https://docs.scipy.org/doc/scipy/reference/generated/scipy.stats.pearsonr.html) function,\n",
    "2. Compare the p-value returned from the hypothesis test to the passed significance level $alpha$ stored in the `sig_level_alpha` argument,\n",
    "3. Check the Pearson correlation coefficient returned from the hypothesis test,\n",
    "4. If the p-value from above is less than the significance level and the Pearson correlation coefficient is negative, then return a boolean of `True`. Otherwise, return a boolean of `False`. \n",
    "\n",
    "**Note**: Use the log-scaled and binned degree distribution generated by the deg_dist_binned_and_log_scale function with its default bin width as the input to the Pearson correlation test. Ensure that you use the two-sided version of the test provided by the [`sp.stats.pearson`](https://docs.scipy.org/doc/scipy/reference/generated/scipy.stats.pearsonr.html)."
   ]
  },
  {
   "cell_type": "code",
   "execution_count": null,
   "id": "babb77da-e7da-4e7e-b506-0df2c981172d",
   "metadata": {
    "tags": [
     "export"
    ]
   },
   "outputs": [],
   "source": [
    "def is_scale_free_network(G:nx.Graph, sig_level_alpha:float) -> bool:\n",
    "    \"\"\"\n",
    "    Params\n",
    "        G                        networkx Graph       undirected network\n",
    "        sig_level_alpha          float                significance level\n",
    "                                                         probability of making a type I error\n",
    "\n",
    "    Return\n",
    "        network_is_scale_free    boolean              True if network is scale free, False otherwise  \n",
    "    \"\"\"\n",
    "\n",
    "    ####IMPLEMENTATION STARTS HERE####\n",
    "    \n",
    "    # This is a placeholder\n",
    "    network_is_scale_free = None\n",
    "\n",
    "    ####IMPLEMENTATION ENDS HERE####\n",
    "    return network_is_scale_free"
   ]
  },
  {
   "cell_type": "markdown",
   "id": "068df361-f5f9-43f4-86f1-37b58e05c61d",
   "metadata": {},
   "source": [
    "# Part 3 <font size=3> [20 pts] Clustering Analysis"
   ]
  },
  {
   "cell_type": "markdown",
   "id": "b44149f1-e02a-468f-a259-8188c5df3b74",
   "metadata": {},
   "source": [
    "The small-world property of a network is identified by a network having two properties:\n",
    "* High clustering\n",
    "* Low average shortest path length\n",
    "\n",
    "In this part, we build tools for analyzing whether a network has high average clustering compared to a random network."
   ]
  },
  {
   "cell_type": "markdown",
   "id": "86b71263-92a4-4d91-a80b-91b0557a0ede",
   "metadata": {},
   "source": [
    "## 3.1 <font size=3> [2 pts] Average clustering of a network"
   ]
  },
  {
   "cell_type": "markdown",
   "id": "7c6260d9-ba2f-4d81-99f9-a40adf992bcf",
   "metadata": {},
   "source": [
    "In the function below, compute and return the average clustering value for the parameter network `G` by using NetworkX's [`average_clustering`](https://networkx.org/documentation/stable/reference/algorithms/generated/networkx.algorithms.cluster.average_clustering.html) function."
   ]
  },
  {
   "cell_type": "code",
   "execution_count": null,
   "id": "abb446ad-27f2-4b2b-ba51-8cbbb6c5daa0",
   "metadata": {
    "tags": [
     "export"
    ]
   },
   "outputs": [],
   "source": [
    "def network_average_clustering(G:nx.Graph) -> float:\n",
    "    \"\"\"\n",
    "    Params\n",
    "        G          networkx Graph               undirected network\n",
    "\n",
    "    Return\n",
    "        net_cc     float                        average clustering value for the network G\n",
    "    \"\"\"\n",
    "\n",
    "    ####IMPLEMENTATION STARTS HERE####\n",
    "\n",
    "    # This is a placeholder\n",
    "    net_cc = -1.0\n",
    "    \n",
    "    \n",
    "    ####IMPLEMENTATION ENDS HERE####\n",
    "    return net_cc"
   ]
  },
  {
   "cell_type": "markdown",
   "id": "7b7973c7-8dda-4964-867e-879c51d8ef78",
   "metadata": {},
   "source": [
    "## 3.2 <font size=3> [2 pts] Transitivity of a network"
   ]
  },
  {
   "cell_type": "markdown",
   "id": "47470a6d-2910-4c37-a0f5-694b8c033900",
   "metadata": {},
   "source": [
    "In the function below, compute and return the transitivity for the parameter network `G` by using NetworkX's [`transitivity`](https://networkx.org/documentation/stable/reference/algorithms/generated/networkx.algorithms.cluster.transitivity.html) function."
   ]
  },
  {
   "cell_type": "code",
   "execution_count": null,
   "id": "aa3393b8-f258-4755-bdb5-ffec58ad9d64",
   "metadata": {
    "tags": [
     "export"
    ]
   },
   "outputs": [],
   "source": [
    "def network_transitivity(G:nx.Graph) -> float:\n",
    "    \"\"\"\n",
    "    Params\n",
    "        G              networkx Graph               undirected network\n",
    "\n",
    "    Return\n",
    "        net_trans      float                        transitivity of the network\n",
    "    \"\"\"\n",
    "\n",
    "    ####IMPLEMENTATION STARTS HERE####\n",
    "    \n",
    "    # This is a placceholder\n",
    "    net_trans = -1.0\n",
    "\n",
    "    ####IMPLEMENTATION ENDS HERE####\n",
    "    return net_trans"
   ]
  },
  {
   "cell_type": "markdown",
   "id": "685fddd2-9267-4ca2-b682-67c10b6ed4bc",
   "metadata": {},
   "source": [
    "## 3.3 <font size=3> [6 pts] Distinction between average clustering and transitivity"
   ]
  },
  {
   "cell_type": "markdown",
   "id": "5623cfff-263b-4086-ae80-6d4ebbb0f2da",
   "metadata": {},
   "source": [
    "In the function below, construct and return a graph with:\n",
    "* Nodes $A, B, C_1, ..., C_{n-2}$, where $n$ is the `node_ct` value,\n",
    "* An edge between $A$ and $B$,\n",
    "* An edge between $A$ and every $C_i$ for $i=1,...,n-2$,\n",
    "* An edge between $B$ and every $C_i$ for $i=1,...,n-2$,"
   ]
  },
  {
   "cell_type": "code",
   "execution_count": null,
   "id": "c15859a3-8af9-4a12-b7a8-9776d3c864f8",
   "metadata": {
    "tags": [
     "export"
    ]
   },
   "outputs": [],
   "source": [
    "def example_network(node_ct:int) -> nx.Graph():\n",
    "    \"\"\"\n",
    "    Params\n",
    "        node_ct         int                    number of nodes for the network\n",
    "\n",
    "    Return\n",
    "        G               networkx Graph         Graph with nodes A,B,C_1,...,C_{n-2}\n",
    "                                                 edge between A and every C_i\n",
    "                                                 edge between B and every C_I\n",
    "                                                 edge between A and B\n",
    "    \"\"\"\n",
    "\n",
    "    ####IMPLEMENTATION STARTS HERE####\n",
    "\n",
    "    # This is a placeholder\n",
    "    G = nx.Graph()\n",
    "    node_ct = max(node_ct, 2)\n",
    "\n",
    "    ####IMPLEMENTATION ENDS HERE####\n",
    "    return G"
   ]
  },
  {
   "cell_type": "markdown",
   "id": "92d093b2-2f01-41fa-bc57-735fb8131082",
   "metadata": {},
   "source": [
    "Run the cell below to observe how the average clustering and the transitivity of the example network changes as the number of nodes grows."
   ]
  },
  {
   "cell_type": "code",
   "execution_count": null,
   "id": "691087ff-5a62-4e36-a482-1e4b156930d5",
   "metadata": {
    "tags": [
     "test"
    ]
   },
   "outputs": [],
   "source": [
    "# Run this cell (when the appropriate functions are ready), but do not modify the contents\n",
    "for i in (10, 100, 1000):\n",
    "    print()\n",
    "    G_example = example_network(i)\n",
    "    print(G_example)\n",
    "    print(\"network average clustering : \", round(network_average_clustering(G_example),3))\n",
    "    print(\"network transitivity       : \", network_transitivity(G_example))"
   ]
  },
  {
   "cell_type": "markdown",
   "id": "8dec10ff-b672-42c4-8ffd-5de42ee1a74e",
   "metadata": {},
   "source": [
    "Use the information from the run cell above to determine what the limits of the average clustering and the transitivity of the example network is as the number of nodes tends toward positive infinity. Put those limits in the function below. Note that all that needs to be changed about the function below is the two float values."
   ]
  },
  {
   "cell_type": "code",
   "execution_count": null,
   "id": "f1b7710a-4340-473f-b7b0-21e05d43f0b4",
   "metadata": {
    "tags": [
     "export"
    ]
   },
   "outputs": [],
   "source": [
    "def avg_clust_trans_tend_toward() -> (float, float):\n",
    "    \"\"\"\n",
    "    Return\n",
    "        avg_clust_tends_toward       float         the limit of the average clustering as n -> infty\n",
    "        trans_tends_toward           float         the limit of the transitivity as n -> infty\n",
    "    \"\"\"\n",
    "\n",
    "    ####IMPLEMENTATION STARTS HERE####\n",
    "    \n",
    "    # This is a placeholder\n",
    "    avg_clust_tends_toward = -3.14\n",
    "    trans_tends_toward = -3.14\n",
    "    \n",
    "    ####IMPLEMENTATION ENDS HERE####\n",
    "    return avg_clust_tends_toward, trans_tends_toward"
   ]
  },
  {
   "cell_type": "markdown",
   "id": "d00af8ea-fdb0-4961-a48a-082984e0940f",
   "metadata": {},
   "source": [
    "## 3.4 <font size=3> [10 pts] Statistically high average clustering"
   ]
  },
  {
   "cell_type": "markdown",
   "id": "cd2cc577-4fb5-4f7f-a416-b1f62ff6aed6",
   "metadata": {},
   "source": [
    "In the function below:\n",
    "1. Generate 100 random networks using NetworkX's [`fast_gnp_random_graph`](https://networkx.org/documentation/stable/reference/generated/networkx.generators.random_graphs.fast_gnp_random_graph.html). When generating the random networks, `n` should be the number of nodes of `G` and `p` should be the proportion of edges (to the total possible) of `G`. After generating a random graph, remove all self-loops (disregarding the fact that this will generally lessen the proportion of edges that the random graph has when compared to `G`.\n",
    "2. For each random graph $R = G(n,p)$, compute the average clustering of $R$ and store that value.\n",
    "3. Using SciPy's [`sp.stats.ttest_1samp`](https://docs.scipy.org/doc/scipy/reference/generated/scipy.stats.ttest_1samp.html), perform a one-sample t-test with the sample being the list of average clustering values for the random networks and the constant value being the average clustering of the argument network `G`. Use the appropriate value for the `alternative` parameter (one of \"two-sided\", \"less\", or \"greater\")."
   ]
  },
  {
   "cell_type": "code",
   "execution_count": null,
   "id": "c7ce5616-766c-474c-9650-2819ca3a8503",
   "metadata": {
    "tags": [
     "export"
    ]
   },
   "outputs": [],
   "source": [
    "def network_has_stat_high_avg_clustering(G:nx.Graph, sig_level_alpha:float) -> bool:\n",
    "    \"\"\"\n",
    "    Params\n",
    "        G                    networkx Graph           undirected network\n",
    "        sig_level_alpha      float                    significance level\n",
    "                                                        ie, probability of making a type I error\n",
    "    Return\n",
    "        stat_high_avg_c      boolean                  statistically high average clustering\n",
    "    \"\"\"\n",
    "    \n",
    "    ####IMPLEMENTATION STARTS HERE####\n",
    "\n",
    "    # This is a placeholder\n",
    "    stat_high_avg_c = None\n",
    "\n",
    "    ####IMPLEMENTATION ENDS HERE####\n",
    "    return stat_high_avg_c"
   ]
  },
  {
   "cell_type": "markdown",
   "id": "ef5ea3b7-4572-45e5-ab34-808ce810ea5c",
   "metadata": {},
   "source": [
    "# Part 4 <font size=3> [20 pts] Path Length Analysis"
   ]
  },
  {
   "cell_type": "markdown",
   "id": "228df2c5-f2bd-40dd-aea1-dd727935b15f",
   "metadata": {},
   "source": [
    "The small-world property of a network is identified by a network having two properties:\n",
    "* High clustering\n",
    "* Low average shortest path length\n",
    "\n",
    "In this part, we build tools for analyzing whether a network has low average shortest path length compared to a random network."
   ]
  },
  {
   "cell_type": "markdown",
   "id": "8ecb38b3-0aa1-490d-b924-c62a8c6ad21d",
   "metadata": {},
   "source": [
    "## 4.1 <font size=3> [4 pts] Average shortest path length of network"
   ]
  },
  {
   "cell_type": "markdown",
   "id": "a7db47d2-8284-49b8-9377-301f1bd9194e",
   "metadata": {},
   "source": [
    "In the function below, compute and return the average shortest path length of the parameter graph `G` using NetworkX's [`average_shortest_path_length`](https://networkx.org/documentation/stable/reference/algorithms/generated/networkx.algorithms.shortest_paths.generic.average_shortest_path_length.html) function."
   ]
  },
  {
   "cell_type": "code",
   "execution_count": null,
   "id": "05204f60-79a7-4207-9b95-6f59aacb3f1c",
   "metadata": {
    "tags": [
     "export"
    ]
   },
   "outputs": [],
   "source": [
    "def network_average_shortest_path_length(G:nx.Graph) -> float:\n",
    "    \"\"\"\n",
    "    Params\n",
    "        G                    networkx Graph           undirected network\n",
    "\n",
    "    Return\n",
    "        network_aspl         float                    average shortest path length of the network\n",
    "    \"\"\"\n",
    "\n",
    "    ####IMPLEMENTATION STARTS HERE####\n",
    "    \n",
    "    # This is a place holder\n",
    "    network_aspl = -1.0\n",
    "\n",
    "    ####IMPLEMENTATION ENDS HERE####\n",
    "    return network_aspl"
   ]
  },
  {
   "cell_type": "markdown",
   "id": "963ea724-e1b9-4d43-bff6-f97552ae3b71",
   "metadata": {},
   "source": [
    "## 4.2 <font size=3> [16 pts] Statistically low average shortest path length"
   ]
  },
  {
   "cell_type": "markdown",
   "id": "51071867-4966-448b-9eab-d34b8df158b7",
   "metadata": {},
   "source": [
    "In the function below:\n",
    "1. Generate 100 random networks using NetworkX's [`fast_gnp_random_graph`](https://networkx.org/documentation/stable/reference/generated/networkx.generators.random_graphs.fast_gnp_random_graph.html). When generating the random networks, `n` should be the number of nodes of `G` and `p` should be the proportion of edges (to the total possible) of `G`. After generating a random graph, remove all self-loops (disregarding the fact that this will generally lessen the proportion of edges that the random graph has when compared to `G`.\n",
    "2. For each random graph $R = G(n,p)$, compute the average shortest path length of $R$ and store that value. When a random graph is not connected, take the largest connected component of the graph and compute the average shortest path length over it.\n",
    "3. For each average shortest path length $x$ of a random graph, compute the ratio $y-x$ between $x$ and the average shortest path length $y$ of the argument network `G`. Take the average among all the differences and divide by $y$ to get an average proportionality difference. If this is less than the parameter value `sig_level_alpha`, return `True`. Otherwise, return `False`."
   ]
  },
  {
   "cell_type": "code",
   "execution_count": null,
   "id": "d1aa8e9d-f565-4e52-898d-06235ec9d87c",
   "metadata": {
    "tags": [
     "export"
    ]
   },
   "outputs": [],
   "source": [
    "def network_has_stat_low_avg_path_length(G:nx.Graph, sig_level_alpha:float) -> bool:\n",
    "    \"\"\"\n",
    "    Params\n",
    "        G                    networkx Graph           undirected network\n",
    "        sig_level_alpha      float                    significance level\n",
    "                                                        ie, probability of making a type I error\n",
    "    Return\n",
    "        stat_low_avg_pl      boolean                  statistically low average path length\n",
    "    \"\"\"\n",
    "\n",
    "    ####IMPLEMENTATION STARTS HERE####\n",
    "    \n",
    "    # This is a placeholder\n",
    "    stat_low_avg_pl = None\n",
    "    \n",
    "    ####IMPLEMENTATION ENDS HERE####\n",
    "    return stat_low_avg_pl"
   ]
  },
  {
   "cell_type": "markdown",
   "id": "879dbcf5-ecd5-4149-99aa-3a549fe7acaa",
   "metadata": {},
   "source": [
    "# Part 5 <font size=3> [20 pts] Network Classification"
   ]
  },
  {
   "cell_type": "markdown",
   "id": "b6b99bb9-f30d-41d0-b9c2-ec864821da5c",
   "metadata": {},
   "source": [
    "In this part, you will bring the functional tools you've built to bear on a set of undirected empirical networks with the goal of correctly characterizing and classifying them."
   ]
  },
  {
   "cell_type": "markdown",
   "id": "226a46f2-55d1-446d-b9bc-8a33dec3d405",
   "metadata": {},
   "source": [
    "## 5.1 <font size=3> [4 pts] Suite of empirical networks"
   ]
  },
  {
   "cell_type": "markdown",
   "id": "a38fb389-7260-4504-bd0d-fa6abbce821c",
   "metadata": {},
   "source": [
    "We consider the undirected empirical networks shown below:\n",
    "\n",
    "| Network name | Network type | Source URL | Directedness | Relative path |\n",
    "|--------------|--------------|------------|--------------|---------------|\n",
    "| Bat food sharing | Mammal social network | [Source](https://networkrepository.com/mammalia-vampire-bats-foodsharing.php) | Undirected | `data/bat_foodsharing.edgelist` |\n",
    "| Chesapeake road | Transportation network | [Source](https://networkrepository.com/road-chesapeake.php) | Undirected | `data/chesapeake_road_data.txt` |\n",
    "| Contiguous US states | Geographic network | [Source](https://networkrepository.com/contiguous-usa.php) | Undirected | `data/contiguous_us_data.txt` |\n",
    "| Tubular reactor | Flow network | [Source](https://networkrepository.com/tub100.php) | Undirected | `data/tubular_reactor_data.txt` |"
   ]
  },
  {
   "cell_type": "markdown",
   "id": "ad159eab-faf4-4de7-9e8f-da222add8111",
   "metadata": {},
   "source": [
    "In the body of the function below, use NetworkX's [`read_edgelist`](https://networkx.org/documentation/stable/reference/readwrite/generated/networkx.readwrite.edgelist.read_edgelist.html) function to load each of the *undirected* networks in the table above into a `nx.Graph` object and return the graphs in the order shown in the docstring of the function. Note that several of the graph data files (such as the bat food-sharing file) are equipped with edge weights. We will not use these weights, but one will need to feed the [`read_edgelist`](https://networkx.org/documentation/stable/reference/readwrite/generated/networkx.readwrite.edgelist.read_edgelist.html) function the proper arguments in order to read the data correctly. See the example on the [`read_edgelist`](https://networkx.org/documentation/stable/reference/readwrite/generated/networkx.readwrite.edgelist.read_edgelist.html) documentation page with `nodetype=int, data=((\"weight\", float),))`."
   ]
  },
  {
   "cell_type": "code",
   "execution_count": null,
   "id": "461a98e2-821a-4fcb-8c12-48e7d0d8bcee",
   "metadata": {
    "tags": [
     "export"
    ]
   },
   "outputs": [],
   "source": [
    "def empirical_undirected_networks() -> tuple:\n",
    "    \"\"\"\n",
    "    Return\n",
    "        G_bat_food_sharing           networkx Graph\n",
    "        G_chesapeak_road             networkx Graph\n",
    "        G_contiguous_us              networkx Graph\n",
    "        G_tubular_reaactor           networkx Graph\n",
    "    \"\"\"\n",
    "\n",
    "    ####IMPLEMENTATION STARTS HERE####\n",
    "    \n",
    "    # These are placeholder lines\n",
    "    G_bat_foodsharing = nx.Graph()\n",
    "    G_chesapeak_road = nx.Graph()\n",
    "    G_contiguous_us = nx.Graph()\n",
    "    G_tubular_reactor = nx.Graph()\n",
    "    \n",
    "    ####IMPLEMENTATION ENDS HERE####\n",
    "    return G_bat_foodsharing, G_chesapeak_road, G_contiguous_us, G_tubular_reactor"
   ]
  },
  {
   "cell_type": "markdown",
   "id": "791c157d-a355-468d-829d-cfe6fc086f79",
   "metadata": {},
   "source": [
    "**Sanity Check**\n",
    "\n",
    "Running the cell below should yield the following output:\n",
    "\n",
    "> `Graph with 21 nodes and 72 edges`\n",
    "\n",
    "> `Graph with 39 nodes and 170 edges`\n",
    "\n",
    "> `Graph with 49 nodes and 107 edges`\n",
    "\n",
    "> `Graph with 100 nodes and 248 edges`"
   ]
  },
  {
   "cell_type": "code",
   "execution_count": null,
   "id": "e35711af-cd55-41f3-8dbb-78e5e23ef01a",
   "metadata": {
    "tags": [
     "test"
    ]
   },
   "outputs": [],
   "source": [
    "# Run but do not modify the contents of this cell\n",
    "for g in empirical_undirected_networks():\n",
    "    print(g)"
   ]
  },
  {
   "cell_type": "markdown",
   "id": "8ff0dd89-40bf-4aeb-bf1f-210df5afa547",
   "metadata": {},
   "source": [
    "## 5.2 <font size=3> [4 pts] Classify networks as displaying the Friendship Paradox or not"
   ]
  },
  {
   "cell_type": "markdown",
   "id": "3d24f862-0207-4ae7-ba01-82701a59abf3",
   "metadata": {},
   "source": [
    "Run the cell below to see what the functional tools you've built have to say about whether each of the undirected empirical networks displays the Friendship Paradox or not."
   ]
  },
  {
   "cell_type": "code",
   "execution_count": null,
   "id": "4dee756f-4cae-4f29-b091-c8f70265d086",
   "metadata": {
    "tags": [
     "test"
    ]
   },
   "outputs": [],
   "source": [
    "# Run this cell, but do no modify the contents\n",
    "for g in list(empirical_undirected_networks()):\n",
    "    print(network_displays_friendship_paradox(g))"
   ]
  },
  {
   "cell_type": "markdown",
   "id": "395453a4-20fc-41d3-8d67-68f00408682c",
   "metadata": {},
   "source": [
    "Fill in the correct boolean in the function below to match the results of the run cell above."
   ]
  },
  {
   "cell_type": "code",
   "execution_count": null,
   "id": "6a1a6a04-2853-498c-9e0e-db6c0d768ebc",
   "metadata": {
    "tags": [
     "export"
    ]
   },
   "outputs": [],
   "source": [
    "def empirical_networks_friendship_paradox_results() -> (bool, bool, bool, bool):\n",
    "    \"\"\"\n",
    "    Return\n",
    "        bat_foodsharing_shows_friendship_paradox        bool        \n",
    "        chesapeak_road_shows_friendship_paradox         bool\n",
    "        contiguous_us_shows_friendship_paradox          bool\n",
    "        tubular_reactor_shows_friendship_paradox        bool\n",
    "    \"\"\"\n",
    "    \n",
    "    bat_foodsharing_shows_friendship_paradox = None      \n",
    "    chesapeak_road_shows_friendship_paradox = None\n",
    "    contiguous_us_shows_friendship_paradox = None\n",
    "    tubular_reactor_shows_friendship_paradox = None\n",
    "\n",
    "    return bat_foodsharing_shows_friendship_paradox, chesapeak_road_shows_friendship_paradox, contiguous_us_shows_friendship_paradox, tubular_reactor_shows_friendship_paradox"
   ]
  },
  {
   "cell_type": "markdown",
   "id": "80787a2e-07b6-44ca-8857-fabd33678d17",
   "metadata": {},
   "source": [
    "## 5.3 <font size=3> [4 pts] Classify networks as scale free or not"
   ]
  },
  {
   "cell_type": "markdown",
   "id": "5ef40d03-6c45-448d-99c4-0002da39e475",
   "metadata": {},
   "source": [
    "Run the cell below to see what the functional tools you've built have to say about whether each of the undirected empirical networks is a scale-free (ie, power law) network or not."
   ]
  },
  {
   "cell_type": "code",
   "execution_count": null,
   "id": "bb27399d-98b7-4cca-9c72-4d6055034c7e",
   "metadata": {
    "tags": [
     "test"
    ]
   },
   "outputs": [],
   "source": [
    "# Run this cell, but do no modify the contents\n",
    "for g in list(empirical_undirected_networks()):\n",
    "    print(is_scale_free_network(g, 0.05))"
   ]
  },
  {
   "cell_type": "markdown",
   "id": "54571556-a2e6-4264-bc6d-ec549442821d",
   "metadata": {},
   "source": [
    "Fill in the correct boolean in the function below to match the results of the run cell above."
   ]
  },
  {
   "cell_type": "code",
   "execution_count": null,
   "id": "cca1f42e-b1ea-48dd-a3ed-cf795d6e5698",
   "metadata": {
    "tags": [
     "export"
    ]
   },
   "outputs": [],
   "source": [
    "def empirical_networks_scale_free_results() -> (bool, bool, bool, bool):\n",
    "    \"\"\"\n",
    "    Return\n",
    "        bat_foodsharing_is_scale_free        bool        \n",
    "        chesapeak_road_is_scale_free         bool\n",
    "        contiguous_us_is_scale_free          bool\n",
    "        tubular_reactor_is_scale_free        bool\n",
    "    \"\"\"\n",
    "    \n",
    "    bat_foodsharing_is_scale_free = None      \n",
    "    chesapeak_road_is_scale_free = None\n",
    "    contiguous_us_is_scale_free = None\n",
    "    tubular_reactor_is_scale_free = None\n",
    "\n",
    "    return bat_foodsharing_is_scale_free, chesapeak_road_is_scale_free, contiguous_us_is_scale_free, tubular_reactor_is_scale_free"
   ]
  },
  {
   "cell_type": "markdown",
   "id": "f98e25ef-e759-4c01-8870-17302eb1a89d",
   "metadata": {},
   "source": [
    "## 5.4 <font size=3> [8 pts] Classify network as small-world or not"
   ]
  },
  {
   "cell_type": "markdown",
   "id": "1dfb3880-48e6-46e0-9be6-686e025569fb",
   "metadata": {},
   "source": [
    "In the body of the function below, use your `network_has_stat_low_avg_path_length` and `network_has_stat_high_avg_clustering` functions from the earlier parts of this assignment to assess whether the parameter network `G` meets both of the conditions needed to be considered a small-world network. If it does, then return `True`. Otherwise, return `False`."
   ]
  },
  {
   "cell_type": "code",
   "execution_count": null,
   "id": "9ef23c63-94e6-461d-a855-6ccf9622f8ff",
   "metadata": {
    "tags": [
     "export"
    ]
   },
   "outputs": [],
   "source": [
    "def is_small_world_network(G:nx.Graph, sig_level_alpha:float) -> bool:\n",
    "    \"\"\"\n",
    "    Params\n",
    "        G                          networkx Graph           undirected network\n",
    "        sig_level_alpha            float                    significance level\n",
    "                                                                ie, probability of making a type I error\n",
    "    Return\n",
    "        network_is_small_world     boolean                  statistically likely to be a small world network\n",
    "    \"\"\"\n",
    "\n",
    "    ####IMPLEMENTATION STARTS HERE####\n",
    "    \n",
    "    # This is a placeholder\n",
    "    network_is_small_world = None\n",
    "    \n",
    "    ####IMPLEMENTATION ENDS HERE####\n",
    "    return network_is_small_world"
   ]
  },
  {
   "cell_type": "markdown",
   "id": "61a9532d-670a-4bb2-b8af-39114e0e496d",
   "metadata": {},
   "source": [
    "Run the cell below to see what the functional tools you've built have to say about whether each of the undirected empirical networks is a small-world network or not."
   ]
  },
  {
   "cell_type": "code",
   "execution_count": null,
   "id": "a056a2ad-67e9-452f-a1df-e71fa2d3445f",
   "metadata": {
    "tags": [
     "test"
    ]
   },
   "outputs": [],
   "source": [
    "# Run this cell, but do no modify the contents\n",
    "for g in empirical_undirected_networks():\n",
    "    print(is_small_world_network(g, 0.05))"
   ]
  },
  {
   "cell_type": "markdown",
   "id": "cddfeea7-373f-4efb-be64-5505cae34c6a",
   "metadata": {},
   "source": [
    "Fill in the correct boolean in the function below to match the results of the run cell above."
   ]
  },
  {
   "cell_type": "code",
   "execution_count": null,
   "id": "1b3eb295-0ef1-47af-8349-261e602fd0af",
   "metadata": {
    "tags": [
     "export"
    ]
   },
   "outputs": [],
   "source": [
    "def empirical_networks_small_world_results() -> (bool, bool, bool, bool):\n",
    "    \"\"\"\n",
    "    Return\n",
    "        bat_foodsharing_is_small_world        bool        \n",
    "        chesapeak_road_is_small_world         bool\n",
    "        contiguous_us_is_small_world          bool\n",
    "        tubular_reactor_is_small_world        bool\n",
    "    \"\"\"\n",
    "    \n",
    "    bat_foodsharing_is_small_world = None   \n",
    "    chesapeak_road_is_small_world = None\n",
    "    contiguous_us_is_small_world = None\n",
    "    tubular_reactor_is_small_world = None\n",
    "    \n",
    "    return bat_foodsharing_is_small_world, chesapeak_road_is_small_world, contiguous_us_is_small_world, tubular_reactor_is_small_world"
   ]
  }
 ],
 "metadata": {
  "kernelspec": {
   "display_name": "Python 3 (ipykernel)",
   "language": "python",
   "name": "python3"
  },
  "language_info": {
   "codemirror_mode": {
    "name": "ipython",
    "version": 3
   },
   "file_extension": ".py",
   "mimetype": "text/x-python",
   "name": "python",
   "nbconvert_exporter": "python",
   "pygments_lexer": "ipython3",
   "version": "3.8.20"
  }
 },
 "nbformat": 4,
 "nbformat_minor": 5
}
